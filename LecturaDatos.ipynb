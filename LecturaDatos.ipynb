{
 "cells": [
  {
   "cell_type": "code",
   "execution_count": 13,
   "id": "f97a6694",
   "metadata": {},
   "outputs": [],
   "source": [
    "import os\n",
    "import rdata\n",
    "import urllib\n",
    "import pandas as pd\n",
    "\n",
    "\n",
    "\n",
    "import warnings\n",
    "warnings.filterwarnings(\"ignore\", message=\".*Missing constructor for R class.*\")"
   ]
  },
  {
   "cell_type": "code",
   "execution_count": 15,
   "id": "ad45b203",
   "metadata": {},
   "outputs": [],
   "source": [
    "# barcelona_pois = rdata.read_rda(\"data/Barcelona_POIS.rda\")\n",
    "# barcelona_polygons = rdata.read_rda(\"data/Barcelona_Polygons.rda\", default_encoding=\"utf8\")\n",
    "barcelona_sale = rdata.read_rda(\"data/Barcelona_Sale.rda\")\n",
    "# madrid_pois = rdata.read_rda(\"data/Madrid_POIS.rda\")\n",
    "# madrid_polygons = rdata.read_rda(\"data/Madrid_Polygons.rda\", default_encoding=\"utf8\")\n",
    "madrid_sale = rdata.read_rda(\"data/Madrid_Sale.rda\")\n",
    "# valencia_pois = rdata.read_rda(\"data/Valencia_POIS.rda\")\n",
    "# valencia_polygons = rdata.read_rda(\"data/Valencia_Polygons.rda\", default_encoding=\"utf8\")\n",
    "valencia_sale = rdata.read_rda(\"data/Valencia_Sale.rda\")\n",
    "# properties_by_district = rdata.read_rda(\"data/properties_by_district.rda\")"
   ]
  },
  {
   "cell_type": "code",
   "execution_count": 17,
   "id": "cfd7249c",
   "metadata": {},
   "outputs": [
    {
     "name": "stdout",
     "output_type": "stream",
     "text": [
      "dict_keys(['Barcelona_Sale'])\n",
      "Objeto: Barcelona_Sale\n",
      "filas de Barcelona_Sale:61486\n",
      "Columnas:\n",
      "Index(['ASSETID', 'PERIOD', 'PRICE', 'UNITPRICE', 'CONSTRUCTEDAREA',\n",
      "       'ROOMNUMBER', 'BATHNUMBER', 'HASTERRACE', 'HASLIFT',\n",
      "       'HASAIRCONDITIONING', 'AMENITYID', 'HASPARKINGSPACE',\n",
      "       'ISPARKINGSPACEINCLUDEDINPRICE', 'PARKINGSPACEPRICE',\n",
      "       'HASNORTHORIENTATION', 'HASSOUTHORIENTATION', 'HASEASTORIENTATION',\n",
      "       'HASWESTORIENTATION', 'HASBOXROOM', 'HASWARDROBE', 'HASSWIMMINGPOOL',\n",
      "       'HASDOORMAN', 'HASGARDEN', 'ISDUPLEX', 'ISSTUDIO', 'ISINTOPFLOOR',\n",
      "       'CONSTRUCTIONYEAR', 'FLOORCLEAN', 'FLATLOCATIONID',\n",
      "       'CADCONSTRUCTIONYEAR', 'CADMAXBUILDINGFLOOR', 'CADDWELLINGCOUNT',\n",
      "       'CADASTRALQUALITYID', 'BUILTTYPEID_1', 'BUILTTYPEID_2', 'BUILTTYPEID_3',\n",
      "       'DISTANCE_TO_CITY_CENTER', 'DISTANCE_TO_METRO', 'DISTANCE_TO_DIAGONAL',\n",
      "       'LONGITUDE', 'LATITUDE', 'geometry'],\n",
      "      dtype='object')\n",
      "dict_keys(['Madrid_Sale'])\n",
      "Objeto: Madrid_Sale\n",
      "filas de Madrid_Sale:94815\n",
      "Columnas:\n",
      "Index(['ASSETID', 'PERIOD', 'PRICE', 'UNITPRICE', 'CONSTRUCTEDAREA',\n",
      "       'ROOMNUMBER', 'BATHNUMBER', 'HASTERRACE', 'HASLIFT',\n",
      "       'HASAIRCONDITIONING', 'AMENITYID', 'HASPARKINGSPACE',\n",
      "       'ISPARKINGSPACEINCLUDEDINPRICE', 'PARKINGSPACEPRICE',\n",
      "       'HASNORTHORIENTATION', 'HASSOUTHORIENTATION', 'HASEASTORIENTATION',\n",
      "       'HASWESTORIENTATION', 'HASBOXROOM', 'HASWARDROBE', 'HASSWIMMINGPOOL',\n",
      "       'HASDOORMAN', 'HASGARDEN', 'ISDUPLEX', 'ISSTUDIO', 'ISINTOPFLOOR',\n",
      "       'CONSTRUCTIONYEAR', 'FLOORCLEAN', 'FLATLOCATIONID',\n",
      "       'CADCONSTRUCTIONYEAR', 'CADMAXBUILDINGFLOOR', 'CADDWELLINGCOUNT',\n",
      "       'CADASTRALQUALITYID', 'BUILTTYPEID_1', 'BUILTTYPEID_2', 'BUILTTYPEID_3',\n",
      "       'DISTANCE_TO_CITY_CENTER', 'DISTANCE_TO_METRO',\n",
      "       'DISTANCE_TO_CASTELLANA', 'LONGITUDE', 'LATITUDE', 'geometry'],\n",
      "      dtype='object')\n",
      "dict_keys(['Valencia_Sale'])\n",
      "Objeto: Valencia_Sale\n",
      "filas de Valencia_Sale:33622\n",
      "Columnas:\n",
      "Index(['ASSETID', 'PERIOD', 'PRICE', 'UNITPRICE', 'CONSTRUCTEDAREA',\n",
      "       'ROOMNUMBER', 'BATHNUMBER', 'HASTERRACE', 'HASLIFT',\n",
      "       'HASAIRCONDITIONING', 'AMENITYID', 'HASPARKINGSPACE',\n",
      "       'ISPARKINGSPACEINCLUDEDINPRICE', 'PARKINGSPACEPRICE',\n",
      "       'HASNORTHORIENTATION', 'HASSOUTHORIENTATION', 'HASEASTORIENTATION',\n",
      "       'HASWESTORIENTATION', 'HASBOXROOM', 'HASWARDROBE', 'HASSWIMMINGPOOL',\n",
      "       'HASDOORMAN', 'HASGARDEN', 'ISDUPLEX', 'ISSTUDIO', 'ISINTOPFLOOR',\n",
      "       'CONSTRUCTIONYEAR', 'FLOORCLEAN', 'FLATLOCATIONID',\n",
      "       'CADCONSTRUCTIONYEAR', 'CADMAXBUILDINGFLOOR', 'CADDWELLINGCOUNT',\n",
      "       'CADASTRALQUALITYID', 'BUILTTYPEID_1', 'BUILTTYPEID_2', 'BUILTTYPEID_3',\n",
      "       'DISTANCE_TO_CITY_CENTER', 'DISTANCE_TO_METRO', 'DISTANCE_TO_BLASCO',\n",
      "       'LONGITUDE', 'LATITUDE', 'geometry'],\n",
      "      dtype='object')\n"
     ]
    }
   ],
   "source": [
    "sales = [barcelona_sale, madrid_sale, valencia_sale]\n",
    "\n",
    "for sale in sales:\n",
    "\n",
    "    print(sale.keys())\n",
    "\n",
    "    for name, obj in sale.items():\n",
    "        print(f\"Objeto: {name}\")\n",
    "        print(f\"filas de {name}:{len(obj)}\")\n",
    "        print(f\"Columnas:\")\n",
    "        print(obj.columns)"
   ]
  },
  {
   "cell_type": "code",
   "execution_count": 19,
   "id": "5ddd5fc7",
   "metadata": {},
   "outputs": [],
   "source": [
    "for sale in sales:\n",
    "\n",
    "    for name, obj in sale.items():\n",
    "        ruta = \"data_csv/\"+name\n",
    "        obj.to_csv(ruta, sep=';', encoding='utf-8', index=False)"
   ]
  },
  {
   "cell_type": "code",
   "execution_count": null,
   "id": "9d7cff63",
   "metadata": {},
   "outputs": [],
   "source": [
    "\n",
    "\n",
    "    "
   ]
  }
 ],
 "metadata": {
  "kernelspec": {
   "display_name": "Python 3",
   "language": "python",
   "name": "python3"
  },
  "language_info": {
   "codemirror_mode": {
    "name": "ipython",
    "version": 3
   },
   "file_extension": ".py",
   "mimetype": "text/x-python",
   "name": "python",
   "nbconvert_exporter": "python",
   "pygments_lexer": "ipython3",
   "version": "3.12.2"
  }
 },
 "nbformat": 4,
 "nbformat_minor": 5
}
