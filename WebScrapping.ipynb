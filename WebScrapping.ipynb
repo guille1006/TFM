{
 "cells": [
  {
   "cell_type": "code",
   "execution_count": 4,
   "id": "934646d9",
   "metadata": {},
   "outputs": [],
   "source": [
    "import requests\n",
    "from bs4 import BeautifulSoup\n",
    "from fake_useragent import UserAgent"
   ]
  },
  {
   "cell_type": "code",
   "execution_count": null,
   "id": "3c986ac1",
   "metadata": {},
   "outputs": [
    {
     "data": {
      "text/plain": [
       "'<html lang=\"es\"><head><title>idealista.com</title><style>#cmsg{animation: A 1.5s;}@keyframes A{0%{opacity:0;}99%{opacity:0;}100%{opacity:1;}}</style><meta name=\"viewport\" content=\"width=device-width, initial-scale=1.0\"></head><body style=\"margin:0\"><script data-cfasync=\"false\">var dd={\\'rt\\':\\'c\\',\\'cid\\':\\'AHrlqAAAAAMAFlOcVcPPv2cAk2CA4w==\\',\\'hsh\\':\\'AC81AADC3279CA4C7B968B717FBB30\\',\\'t\\':\\'fe\\',\\'qp\\':\\'\\',\\'s\\':17156,\\'e\\':\\'94b0be34c490aa85e315f5c18583f4576038c72af63e2b1774ca605a7ad00571\\',\\'host\\':\\'geo.captcha-delivery.com\\',\\'cookie\\':\\'SnrF97XCVA49kxtfQhEHRQkMSAep18PBp_~8r2ZMUl2~_sYay9lRTbIyuzDl1DjF31aRkQhju1aLqdbElknZMtq7~~uqlUQbKJkx_TCBwMhFXyRG8lW1g21Jf7AhLdUf\\'}</script><script data-cfasync=\"false\" src=\"https://ct.captcha-delivery.com/c.js\"></script><iframe src=\"https://geo.captcha-delivery.com/captcha/?initialCid=AHrlqAAAAAMAFlOcVcPPv2cAk2CA4w%3D%3D&amp;hash=AC81AADC3279CA4C7B968B717FBB30&amp;cid=SnrF97XCVA49kxtfQhEHRQkMSAep18PBp_~8r2ZMUl2~_sYay9lRTbIyuzDl1DjF31aRkQhju1aLqdbElknZMtq7~~uqlUQbKJkx_TCBwMhFXyRG8lW1g21Jf7AhLdUf&amp;t=fe&amp;referer=https%3A%2F%2Fwww.idealista.com%2Fventa-viviendas%2Fmadrid-madrid%2F&amp;s=17156&amp;e=94b0be34c490aa85e315f5c18583f4576038c72af63e2b1774ca605a7ad00571&amp;dm=cd\" sandbox=\"allow-scripts allow-same-origin allow-forms\" title=\"DataDome CAPTCHA\" width=\"100%\" height=\"100%\" style=\"height:100vh;\" frameborder=\"0\" border=\"0\" scrolling=\"yes\"></iframe></body></html>'"
      ]
     },
     "execution_count": 11,
     "metadata": {},
     "output_type": "execute_result"
    }
   ],
   "source": [
    "from selenium import webdriver\n",
    "from selenium.webdriver.chrome.options import Options\n",
    "import time\n",
    "\n",
    "options = Options()\n",
    "options.add_argument(\"--headless\")  # Opcional: oculta la ventana\n",
    "options.add_argument(\"--disable-gpu\")\n",
    "options.add_argument(\"user-agent=Mozilla/5.0 (Windows NT 10.0; Win64; x64)\")\n",
    "\n",
    "driver = webdriver.Chrome(options=options)\n",
    "\n",
    "# Ir a Idealista\n",
    "driver.get(\"https://www.idealista.com/venta-viviendas/madrid-madrid/\")\n",
    "\n",
    "time.sleep(5)  # Esperar que cargue todo\n",
    "\n",
    "# Obtener HTML renderizado\n",
    "html = driver.page_source\n",
    "\n",
    "driver.quit()\n",
    "\n",
    "html"
   ]
  },
  {
   "cell_type": "code",
   "execution_count": 14,
   "id": "500262dd",
   "metadata": {},
   "outputs": [],
   "source": [
    "from selenium import webdriver\n",
    "from selenium.webdriver.chrome.service import Service\n",
    "from selenium.webdriver.chrome.options import Options\n",
    "from webdriver_manager.chrome import ChromeDriverManager\n",
    "import time\n",
    "\n",
    "options = Options()\n",
    "options.add_argument(\"--headless=new\")  # Headless más moderno\n",
    "options.add_argument(\"--disable-blink-features=AutomationControlled\")  # Oculta que es Selenium\n",
    "options.add_experimental_option(\"excludeSwitches\", [\"enable-automation\"])\n",
    "options.add_experimental_option('useAutomationExtension', False)\n",
    "options.add_argument(\"user-agent=Mozilla/5.0 (Windows NT 10.0; Win64; x64)\")\n",
    "\n",
    "driver = webdriver.Chrome(service=Service(ChromeDriverManager().install()), options=options)\n",
    "\n",
    "# IMPORTANTE: borra cookies antes de entrar\n",
    "driver.delete_all_cookies()"
   ]
  },
  {
   "cell_type": "code",
   "execution_count": 15,
   "id": "4e3800fc",
   "metadata": {},
   "outputs": [
    {
     "data": {
      "text/plain": [
       "'<html lang=\"es\"><head><title>idealista.com</title><style>#cmsg{animation: A 1.5s;}@keyframes A{0%{opacity:0;}99%{opacity:0;}100%{opacity:1;}}</style><meta name=\"viewport\" content=\"width=device-width, initial-scale=1.0\"></head><body style=\"margin:0\"><script data-cfasync=\"false\">var dd={\\'rt\\':\\'c\\',\\'cid\\':\\'AHrlqAAAAAMAeJ3d3FGFsqEAk2CA4w==\\',\\'hsh\\':\\'AC81AADC3279CA4C7B968B717FBB30\\',\\'t\\':\\'fe\\',\\'qp\\':\\'\\',\\'s\\':17156,\\'e\\':\\'94b0be34c490aa85e315f5c18583f457b64a9f6c31d49d036ec171a32b575d45\\',\\'host\\':\\'geo.captcha-delivery.com\\',\\'cookie\\':\\'gLVvunHN6SfF4O6QSzHMU1OYzhDgqJKIeVnT5En~5YCs_idzExsO9Wmf~QiaVTR02BfDPCP~G1BlDC1c1kDQECTs3BuPMmH8~~dvHBgRD5V6IwD12oSL_6_mo03Cl5B3\\'}</script><script data-cfasync=\"false\" src=\"https://ct.captcha-delivery.com/c.js\"></script><iframe src=\"https://geo.captcha-delivery.com/captcha/?initialCid=AHrlqAAAAAMAeJ3d3FGFsqEAk2CA4w%3D%3D&amp;hash=AC81AADC3279CA4C7B968B717FBB30&amp;cid=gLVvunHN6SfF4O6QSzHMU1OYzhDgqJKIeVnT5En~5YCs_idzExsO9Wmf~QiaVTR02BfDPCP~G1BlDC1c1kDQECTs3BuPMmH8~~dvHBgRD5V6IwD12oSL_6_mo03Cl5B3&amp;t=fe&amp;referer=https%3A%2F%2Fwww.idealista.com%2Fventa-viviendas%2Fmadrid-madrid%2F&amp;s=17156&amp;e=94b0be34c490aa85e315f5c18583f457b64a9f6c31d49d036ec171a32b575d45&amp;dm=cd\" sandbox=\"allow-scripts allow-same-origin allow-forms\" title=\"DataDome CAPTCHA\" width=\"100%\" height=\"100%\" style=\"height:100vh;\" frameborder=\"0\" border=\"0\" scrolling=\"yes\"></iframe></body></html>'"
      ]
     },
     "execution_count": 15,
     "metadata": {},
     "output_type": "execute_result"
    }
   ],
   "source": [
    "# Ir a Idealista\n",
    "driver.get(\"https://www.idealista.com/venta-viviendas/madrid-madrid/\")\n",
    "\n",
    "time.sleep(5)  # Esperar que cargue todo\n",
    "\n",
    "# Obtener HTML renderizado\n",
    "html = driver.page_source\n",
    "\n",
    "driver.quit()\n",
    "\n",
    "html"
   ]
  },
  {
   "cell_type": "code",
   "execution_count": 12,
   "id": "7740e6c8",
   "metadata": {},
   "outputs": [],
   "source": [
    "soup = BeautifulSoup(html, \"html.parser\")\n",
    "\n",
    "# Buscar todos los <a> con clase 'item-link'\n",
    "links = soup.find_all(\"a\", class_=\"item-link\")\n",
    "\n",
    "# Recorrer y extraer la info deseada\n",
    "for link in links:\n",
    "    href = link.get(\"href\")\n",
    "    title = link.get(\"title\")\n",
    "    texto = link.get_text(strip=True)\n",
    "\n",
    "    print(f\"Texto: {texto}\")\n",
    "    print(f\"Título: {title}\")\n",
    "    print(f\"Enlace completo: https://www.idealista.com{href}\")\n",
    "    print(\"-\" * 50)"
   ]
  },
  {
   "cell_type": "code",
   "execution_count": 16,
   "id": "a0383f47",
   "metadata": {},
   "outputs": [
    {
     "ename": "Error",
     "evalue": "It looks like you are using Playwright Sync API inside the asyncio loop.\nPlease use the Async API instead.",
     "output_type": "error",
     "traceback": [
      "\u001b[1;31m---------------------------------------------------------------------------\u001b[0m",
      "\u001b[1;31mError\u001b[0m                                     Traceback (most recent call last)",
      "Cell \u001b[1;32mIn[16], line 3\u001b[0m\n\u001b[0;32m      1\u001b[0m \u001b[38;5;28;01mfrom\u001b[39;00m \u001b[38;5;21;01mplaywright\u001b[39;00m\u001b[38;5;21;01m.\u001b[39;00m\u001b[38;5;21;01msync_api\u001b[39;00m \u001b[38;5;28;01mimport\u001b[39;00m sync_playwright\n\u001b[1;32m----> 3\u001b[0m \u001b[38;5;28;43;01mwith\u001b[39;49;00m\u001b[43m \u001b[49m\u001b[43msync_playwright\u001b[49m\u001b[43m(\u001b[49m\u001b[43m)\u001b[49m\u001b[43m \u001b[49m\u001b[38;5;28;43;01mas\u001b[39;49;00m\u001b[43m \u001b[49m\u001b[43mp\u001b[49m\u001b[43m:\u001b[49m\n\u001b[0;32m      4\u001b[0m \u001b[43m    \u001b[49m\u001b[43mbrowser\u001b[49m\u001b[43m \u001b[49m\u001b[38;5;241;43m=\u001b[39;49m\u001b[43m \u001b[49m\u001b[43mp\u001b[49m\u001b[38;5;241;43m.\u001b[39;49m\u001b[43mchromium\u001b[49m\u001b[38;5;241;43m.\u001b[39;49m\u001b[43mlaunch\u001b[49m\u001b[43m(\u001b[49m\u001b[43mheadless\u001b[49m\u001b[38;5;241;43m=\u001b[39;49m\u001b[38;5;28;43;01mTrue\u001b[39;49;00m\u001b[43m)\u001b[49m\n\u001b[0;32m      5\u001b[0m \u001b[43m    \u001b[49m\u001b[43mcontext\u001b[49m\u001b[43m \u001b[49m\u001b[38;5;241;43m=\u001b[39;49m\u001b[43m \u001b[49m\u001b[43mbrowser\u001b[49m\u001b[38;5;241;43m.\u001b[39;49m\u001b[43mnew_context\u001b[49m\u001b[43m(\u001b[49m\n\u001b[0;32m      6\u001b[0m \u001b[43m        \u001b[49m\u001b[43muser_agent\u001b[49m\u001b[38;5;241;43m=\u001b[39;49m\u001b[38;5;124;43m\"\u001b[39;49m\u001b[38;5;124;43mMozilla/5.0 (Windows NT 10.0; Win64; x64)\u001b[39;49m\u001b[38;5;124;43m\"\u001b[39;49m\u001b[43m,\u001b[49m\n\u001b[0;32m      7\u001b[0m \u001b[43m        \u001b[49m\u001b[43mlocale\u001b[49m\u001b[38;5;241;43m=\u001b[39;49m\u001b[38;5;124;43m\"\u001b[39;49m\u001b[38;5;124;43mes-ES\u001b[39;49m\u001b[38;5;124;43m\"\u001b[39;49m\n\u001b[0;32m      8\u001b[0m \u001b[43m    \u001b[49m\u001b[43m)\u001b[49m\n",
      "File \u001b[1;32mc:\\Users\\Usuario\\AppData\\Local\\Programs\\Python\\Python312\\Lib\\site-packages\\playwright\\sync_api\\_context_manager.py:47\u001b[0m, in \u001b[0;36mPlaywrightContextManager.__enter__\u001b[1;34m(self)\u001b[0m\n\u001b[0;32m     45\u001b[0m             \u001b[38;5;28mself\u001b[39m\u001b[38;5;241m.\u001b[39m_own_loop \u001b[38;5;241m=\u001b[39m \u001b[38;5;28;01mTrue\u001b[39;00m\n\u001b[0;32m     46\u001b[0m         \u001b[38;5;28;01mif\u001b[39;00m \u001b[38;5;28mself\u001b[39m\u001b[38;5;241m.\u001b[39m_loop\u001b[38;5;241m.\u001b[39mis_running():\n\u001b[1;32m---> 47\u001b[0m             \u001b[38;5;28;01mraise\u001b[39;00m Error(\n\u001b[0;32m     48\u001b[0m \u001b[38;5;250m                \u001b[39m\u001b[38;5;124;03m\"\"\"It looks like you are using Playwright Sync API inside the asyncio loop.\u001b[39;00m\n\u001b[0;32m     49\u001b[0m \u001b[38;5;124;03mPlease use the Async API instead.\"\"\"\u001b[39;00m\n\u001b[0;32m     50\u001b[0m             )\n\u001b[0;32m     52\u001b[0m         \u001b[38;5;66;03m# Create a new fiber for the protocol dispatcher. It will be pumping events\u001b[39;00m\n\u001b[0;32m     53\u001b[0m         \u001b[38;5;66;03m# until the end of times. We will pass control to that fiber every time we\u001b[39;00m\n\u001b[0;32m     54\u001b[0m         \u001b[38;5;66;03m# block while waiting for a response.\u001b[39;00m\n\u001b[0;32m     55\u001b[0m         \u001b[38;5;28;01mdef\u001b[39;00m \u001b[38;5;21mgreenlet_main\u001b[39m() \u001b[38;5;241m-\u001b[39m\u001b[38;5;241m>\u001b[39m \u001b[38;5;28;01mNone\u001b[39;00m:\n",
      "\u001b[1;31mError\u001b[0m: It looks like you are using Playwright Sync API inside the asyncio loop.\nPlease use the Async API instead."
     ]
    }
   ],
   "source": [
    "from playwright.sync_api import sync_playwright\n",
    "\n",
    "with sync_playwright() as p:\n",
    "    browser = p.chromium.launch(headless=True)\n",
    "    context = browser.new_context(\n",
    "        user_agent=\"Mozilla/5.0 (Windows NT 10.0; Win64; x64)\",\n",
    "        locale=\"es-ES\"\n",
    "    )\n",
    "    page = context.new_page()\n",
    "    page.goto(\"https://www.idealista.com/venta-viviendas/madrid-madrid/\", timeout=60000)\n",
    "    page.wait_for_timeout(5000)  # Espera 5 seg\n",
    "    html = page.content()\n",
    "    print(html[:1000])  # Verifica si ves anuncios o el iframe CAPTCHA\n",
    "    browser.close()"
   ]
  },
  {
   "cell_type": "code",
   "execution_count": 18,
   "id": "5af040e0",
   "metadata": {},
   "outputs": [
    {
     "ename": "RuntimeError",
     "evalue": "asyncio.run() cannot be called from a running event loop",
     "output_type": "error",
     "traceback": [
      "\u001b[1;31m---------------------------------------------------------------------------\u001b[0m",
      "\u001b[1;31mRuntimeError\u001b[0m                              Traceback (most recent call last)",
      "Cell \u001b[1;32mIn[18], line 18\u001b[0m\n\u001b[0;32m     15\u001b[0m         \u001b[38;5;28mprint\u001b[39m(html[:\u001b[38;5;241m1000\u001b[39m])  \u001b[38;5;66;03m# Muestra parte del contenido\u001b[39;00m\n\u001b[0;32m     16\u001b[0m         \u001b[38;5;28;01mawait\u001b[39;00m browser\u001b[38;5;241m.\u001b[39mclose()\n\u001b[1;32m---> 18\u001b[0m \u001b[43masyncio\u001b[49m\u001b[38;5;241;43m.\u001b[39;49m\u001b[43mrun\u001b[49m\u001b[43m(\u001b[49m\u001b[43mrun\u001b[49m\u001b[43m(\u001b[49m\u001b[43m)\u001b[49m\u001b[43m)\u001b[49m\n",
      "File \u001b[1;32mc:\\Users\\Usuario\\AppData\\Local\\Programs\\Python\\Python312\\Lib\\asyncio\\runners.py:190\u001b[0m, in \u001b[0;36mrun\u001b[1;34m(main, debug, loop_factory)\u001b[0m\n\u001b[0;32m    161\u001b[0m \u001b[38;5;250m\u001b[39m\u001b[38;5;124;03m\"\"\"Execute the coroutine and return the result.\u001b[39;00m\n\u001b[0;32m    162\u001b[0m \n\u001b[0;32m    163\u001b[0m \u001b[38;5;124;03mThis function runs the passed coroutine, taking care of\u001b[39;00m\n\u001b[1;32m   (...)\u001b[0m\n\u001b[0;32m    186\u001b[0m \u001b[38;5;124;03m    asyncio.run(main())\u001b[39;00m\n\u001b[0;32m    187\u001b[0m \u001b[38;5;124;03m\"\"\"\u001b[39;00m\n\u001b[0;32m    188\u001b[0m \u001b[38;5;28;01mif\u001b[39;00m events\u001b[38;5;241m.\u001b[39m_get_running_loop() \u001b[38;5;129;01mis\u001b[39;00m \u001b[38;5;129;01mnot\u001b[39;00m \u001b[38;5;28;01mNone\u001b[39;00m:\n\u001b[0;32m    189\u001b[0m     \u001b[38;5;66;03m# fail fast with short traceback\u001b[39;00m\n\u001b[1;32m--> 190\u001b[0m     \u001b[38;5;28;01mraise\u001b[39;00m \u001b[38;5;167;01mRuntimeError\u001b[39;00m(\n\u001b[0;32m    191\u001b[0m         \u001b[38;5;124m\"\u001b[39m\u001b[38;5;124masyncio.run() cannot be called from a running event loop\u001b[39m\u001b[38;5;124m\"\u001b[39m)\n\u001b[0;32m    193\u001b[0m \u001b[38;5;28;01mwith\u001b[39;00m Runner(debug\u001b[38;5;241m=\u001b[39mdebug, loop_factory\u001b[38;5;241m=\u001b[39mloop_factory) \u001b[38;5;28;01mas\u001b[39;00m runner:\n\u001b[0;32m    194\u001b[0m     \u001b[38;5;28;01mreturn\u001b[39;00m runner\u001b[38;5;241m.\u001b[39mrun(main)\n",
      "\u001b[1;31mRuntimeError\u001b[0m: asyncio.run() cannot be called from a running event loop"
     ]
    }
   ],
   "source": [
    "import asyncio\n",
    "from playwright.async_api import async_playwright\n",
    "\n",
    "async def run():\n",
    "    async with async_playwright() as p:\n",
    "        browser = await p.chromium.launch(headless=True)\n",
    "        context = await browser.new_context(\n",
    "            user_agent=\"Mozilla/5.0 (Windows NT 10.0; Win64; x64)\",\n",
    "            locale=\"es-ES\"\n",
    "        )\n",
    "        page = await context.new_page()\n",
    "        await page.goto(\"https://www.idealista.com/venta-viviendas/madrid-madrid/\", timeout=60000)\n",
    "        await page.wait_for_timeout(5000)\n",
    "        html = await page.content()\n",
    "        print(html[:1000])  # Muestra parte del contenido\n",
    "        await browser.close()\n",
    "\n",
    "asyncio.run(run())"
   ]
  }
 ],
 "metadata": {
  "kernelspec": {
   "display_name": "Python 3",
   "language": "python",
   "name": "python3"
  },
  "language_info": {
   "codemirror_mode": {
    "name": "ipython",
    "version": 3
   },
   "file_extension": ".py",
   "mimetype": "text/x-python",
   "name": "python",
   "nbconvert_exporter": "python",
   "pygments_lexer": "ipython3",
   "version": "3.12.2"
  }
 },
 "nbformat": 4,
 "nbformat_minor": 5
}
